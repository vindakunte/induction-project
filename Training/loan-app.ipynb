{
 "cells": [
  {
   "cell_type": "code",
   "execution_count": 1,
   "id": "b8baad24",
   "metadata": {
    "execution": {
     "iopub.execute_input": "2024-08-01T12:13:01.365634Z",
     "iopub.status.busy": "2024-08-01T12:13:01.365243Z",
     "iopub.status.idle": "2024-08-01T12:13:05.145300Z",
     "shell.execute_reply": "2024-08-01T12:13:05.144102Z"
    },
    "papermill": {
     "duration": 3.793142,
     "end_time": "2024-08-01T12:13:05.147997",
     "exception": false,
     "start_time": "2024-08-01T12:13:01.354855",
     "status": "completed"
    },
    "tags": []
   },
   "outputs": [
    {
     "name": "stdout",
     "output_type": "stream",
     "text": [
      "[nltk_data] Downloading package punkt to /usr/share/nltk_data...\n",
      "[nltk_data]   Package punkt is already up-to-date!\n",
      "[nltk_data] Downloading package stopwords to /usr/share/nltk_data...\n",
      "[nltk_data]   Package stopwords is already up-to-date!\n",
      "[nltk_data] Downloading package wordnet to /usr/share/nltk_data...\n",
      "[nltk_data]   Package wordnet is already up-to-date!\n"
     ]
    }
   ],
   "source": [
    "import pandas as pd\n",
    "import numpy as np\n",
    "import seaborn as sns\n",
    "import matplotlib.pyplot as plt\n",
    "from datetime import datetime\n",
    "from sklearn.base import BaseEstimator, TransformerMixin\n",
    "from sklearn.model_selection import train_test_split\n",
    "from sklearn.linear_model import LogisticRegression\n",
    "from sklearn.metrics import classification_report\n",
    "import nltk\n",
    "nltk.download('punkt')\n",
    "nltk.download('stopwords')\n",
    "nltk.download('wordnet')\n",
    "from nltk.corpus import stopwords\n",
    "from nltk.tokenize import word_tokenize\n",
    "from nltk.stem import WordNetLemmatizer\n",
    "from sklearn.feature_extraction.text import TfidfVectorizer\n",
    "from imblearn.pipeline import Pipeline\n",
    "from imblearn.over_sampling import SMOTE\n",
    "from sklearn.preprocessing import StandardScaler\n",
    "import pickle"
   ]
  },
  {
   "cell_type": "code",
   "execution_count": 2,
   "id": "dfb56405",
   "metadata": {
    "_kg_hide-input": true,
    "execution": {
     "iopub.execute_input": "2024-08-01T12:13:05.166881Z",
     "iopub.status.busy": "2024-08-01T12:13:05.166357Z",
     "iopub.status.idle": "2024-08-01T12:13:06.569529Z",
     "shell.execute_reply": "2024-08-01T12:13:06.568259Z"
    },
    "papermill": {
     "duration": 1.415588,
     "end_time": "2024-08-01T12:13:06.572303",
     "exception": false,
     "start_time": "2024-08-01T12:13:05.156715",
     "status": "completed"
    },
    "tags": []
   },
   "outputs": [
    {
     "name": "stdout",
     "output_type": "stream",
     "text": [
      "Archive:  /usr/share/nltk_data/corpora/wordnet.zip\r\n",
      "   creating: /usr/share/nltk_data/corpora/wordnet/\r\n",
      "  inflating: /usr/share/nltk_data/corpora/wordnet/lexnames  \r\n",
      "  inflating: /usr/share/nltk_data/corpora/wordnet/data.verb  \r\n",
      "  inflating: /usr/share/nltk_data/corpora/wordnet/index.adv  \r\n",
      "  inflating: /usr/share/nltk_data/corpora/wordnet/adv.exc  \r\n",
      "  inflating: /usr/share/nltk_data/corpora/wordnet/index.verb  \r\n",
      "  inflating: /usr/share/nltk_data/corpora/wordnet/cntlist.rev  \r\n",
      "  inflating: /usr/share/nltk_data/corpora/wordnet/data.adj  \r\n",
      "  inflating: /usr/share/nltk_data/corpora/wordnet/index.adj  \r\n",
      "  inflating: /usr/share/nltk_data/corpora/wordnet/LICENSE  \r\n",
      "  inflating: /usr/share/nltk_data/corpora/wordnet/citation.bib  \r\n",
      "  inflating: /usr/share/nltk_data/corpora/wordnet/noun.exc  \r\n",
      "  inflating: /usr/share/nltk_data/corpora/wordnet/verb.exc  \r\n",
      "  inflating: /usr/share/nltk_data/corpora/wordnet/README  \r\n",
      "  inflating: /usr/share/nltk_data/corpora/wordnet/index.sense  \r\n",
      "  inflating: /usr/share/nltk_data/corpora/wordnet/data.noun  \r\n",
      "  inflating: /usr/share/nltk_data/corpora/wordnet/data.adv  \r\n",
      "  inflating: /usr/share/nltk_data/corpora/wordnet/index.noun  \r\n",
      "  inflating: /usr/share/nltk_data/corpora/wordnet/adj.exc  \r\n"
     ]
    }
   ],
   "source": [
    "!unzip /usr/share/nltk_data/corpora/wordnet.zip -d /usr/share/nltk_data/corpora/"
   ]
  },
  {
   "cell_type": "code",
   "execution_count": 3,
   "id": "8ca09545",
   "metadata": {
    "execution": {
     "iopub.execute_input": "2024-08-01T12:13:06.592620Z",
     "iopub.status.busy": "2024-08-01T12:13:06.592189Z",
     "iopub.status.idle": "2024-08-01T12:13:06.849740Z",
     "shell.execute_reply": "2024-08-01T12:13:06.848589Z"
    },
    "papermill": {
     "duration": 0.270976,
     "end_time": "2024-08-01T12:13:06.852540",
     "exception": false,
     "start_time": "2024-08-01T12:13:06.581564",
     "status": "completed"
    },
    "tags": []
   },
   "outputs": [],
   "source": [
    "model_data = pd.read_csv('/kaggle/input/loan-data/Modeling dataset.csv', encoding='utf-8')\n",
    "bureau_data = pd.read_csv('/kaggle/input/loan-data/BureauData.csv')"
   ]
  },
  {
   "cell_type": "code",
   "execution_count": 4,
   "id": "343ec0c0",
   "metadata": {
    "execution": {
     "iopub.execute_input": "2024-08-01T12:13:06.871782Z",
     "iopub.status.busy": "2024-08-01T12:13:06.871394Z",
     "iopub.status.idle": "2024-08-01T12:13:06.901474Z",
     "shell.execute_reply": "2024-08-01T12:13:06.900396Z"
    },
    "papermill": {
     "duration": 0.042507,
     "end_time": "2024-08-01T12:13:06.903953",
     "exception": false,
     "start_time": "2024-08-01T12:13:06.861446",
     "status": "completed"
    },
    "tags": []
   },
   "outputs": [
    {
     "data": {
      "text/html": [
       "<div>\n",
       "<style scoped>\n",
       "    .dataframe tbody tr th:only-of-type {\n",
       "        vertical-align: middle;\n",
       "    }\n",
       "\n",
       "    .dataframe tbody tr th {\n",
       "        vertical-align: top;\n",
       "    }\n",
       "\n",
       "    .dataframe thead th {\n",
       "        text-align: right;\n",
       "    }\n",
       "</style>\n",
       "<table border=\"1\" class=\"dataframe\">\n",
       "  <thead>\n",
       "    <tr style=\"text-align: right;\">\n",
       "      <th></th>\n",
       "      <th>id</th>\n",
       "      <th>loan_amnt</th>\n",
       "      <th>emp_length</th>\n",
       "      <th>annual_inc</th>\n",
       "      <th>delinq_2yrs</th>\n",
       "      <th>inq_last_6mths</th>\n",
       "      <th>mths_since_last_delinq</th>\n",
       "      <th>mths_since_last_record</th>\n",
       "      <th>open_acc</th>\n",
       "      <th>pub_rec</th>\n",
       "      <th>revol_bal</th>\n",
       "      <th>revol_util</th>\n",
       "      <th>total_acc</th>\n",
       "      <th>earliest_cr_line</th>\n",
       "      <th>purpose</th>\n",
       "      <th>desc</th>\n",
       "      <th>loan_status</th>\n",
       "    </tr>\n",
       "  </thead>\n",
       "  <tbody>\n",
       "    <tr>\n",
       "      <th>0</th>\n",
       "      <td>1002603</td>\n",
       "      <td>30000</td>\n",
       "      <td>1</td>\n",
       "      <td>93000.0</td>\n",
       "      <td>0</td>\n",
       "      <td>1</td>\n",
       "      <td>120</td>\n",
       "      <td>130</td>\n",
       "      <td>10</td>\n",
       "      <td>0</td>\n",
       "      <td>43209</td>\n",
       "      <td>0.41</td>\n",
       "      <td>32</td>\n",
       "      <td>7/18/1990 3:54</td>\n",
       "      <td>debt_consolidation</td>\n",
       "      <td>NaN</td>\n",
       "      <td>Current</td>\n",
       "    </tr>\n",
       "    <tr>\n",
       "      <th>1</th>\n",
       "      <td>1024806</td>\n",
       "      <td>22000</td>\n",
       "      <td>6</td>\n",
       "      <td>70000.0</td>\n",
       "      <td>1</td>\n",
       "      <td>0</td>\n",
       "      <td>10</td>\n",
       "      <td>130</td>\n",
       "      <td>11</td>\n",
       "      <td>0</td>\n",
       "      <td>38928</td>\n",
       "      <td>0.85</td>\n",
       "      <td>36</td>\n",
       "      <td>10/7/1983 8:46</td>\n",
       "      <td>debt_consolidation</td>\n",
       "      <td>Borrower added on 11/09/11 &gt; This loan is fo...</td>\n",
       "      <td>Fully Paid</td>\n",
       "    </tr>\n",
       "    <tr>\n",
       "      <th>2</th>\n",
       "      <td>663413</td>\n",
       "      <td>3700</td>\n",
       "      <td>10</td>\n",
       "      <td>117000.0</td>\n",
       "      <td>1</td>\n",
       "      <td>1</td>\n",
       "      <td>10</td>\n",
       "      <td>130</td>\n",
       "      <td>9</td>\n",
       "      <td>0</td>\n",
       "      <td>19382</td>\n",
       "      <td>0.86</td>\n",
       "      <td>24</td>\n",
       "      <td>4/7/1992 11:32</td>\n",
       "      <td>credit_card</td>\n",
       "      <td>Borrower added on 01/28/11 &gt; pay off credit ...</td>\n",
       "      <td>Fully Paid</td>\n",
       "    </tr>\n",
       "    <tr>\n",
       "      <th>3</th>\n",
       "      <td>810093</td>\n",
       "      <td>7600</td>\n",
       "      <td>1</td>\n",
       "      <td>33996.0</td>\n",
       "      <td>0</td>\n",
       "      <td>0</td>\n",
       "      <td>120</td>\n",
       "      <td>130</td>\n",
       "      <td>10</td>\n",
       "      <td>0</td>\n",
       "      <td>1962</td>\n",
       "      <td>0.48</td>\n",
       "      <td>18</td>\n",
       "      <td>1/21/2003 2:40</td>\n",
       "      <td>other</td>\n",
       "      <td>Borrower added on 07/11/11 &gt; I have been con...</td>\n",
       "      <td>Current</td>\n",
       "    </tr>\n",
       "    <tr>\n",
       "      <th>4</th>\n",
       "      <td>865474</td>\n",
       "      <td>12000</td>\n",
       "      <td>7</td>\n",
       "      <td>75000.0</td>\n",
       "      <td>0</td>\n",
       "      <td>1</td>\n",
       "      <td>24</td>\n",
       "      <td>130</td>\n",
       "      <td>13</td>\n",
       "      <td>0</td>\n",
       "      <td>13528</td>\n",
       "      <td>0.51</td>\n",
       "      <td>23</td>\n",
       "      <td>9/8/1997 7:19</td>\n",
       "      <td>debt_consolidation</td>\n",
       "      <td>NaN</td>\n",
       "      <td>Fully Paid</td>\n",
       "    </tr>\n",
       "  </tbody>\n",
       "</table>\n",
       "</div>"
      ],
      "text/plain": [
       "        id  loan_amnt  emp_length  annual_inc  delinq_2yrs  inq_last_6mths  \\\n",
       "0  1002603      30000           1     93000.0            0               1   \n",
       "1  1024806      22000           6     70000.0            1               0   \n",
       "2   663413       3700          10    117000.0            1               1   \n",
       "3   810093       7600           1     33996.0            0               0   \n",
       "4   865474      12000           7     75000.0            0               1   \n",
       "\n",
       "   mths_since_last_delinq  mths_since_last_record  open_acc  pub_rec  \\\n",
       "0                     120                     130        10        0   \n",
       "1                      10                     130        11        0   \n",
       "2                      10                     130         9        0   \n",
       "3                     120                     130        10        0   \n",
       "4                      24                     130        13        0   \n",
       "\n",
       "   revol_bal  revol_util  total_acc earliest_cr_line             purpose  \\\n",
       "0      43209        0.41         32   7/18/1990 3:54  debt_consolidation   \n",
       "1      38928        0.85         36   10/7/1983 8:46  debt_consolidation   \n",
       "2      19382        0.86         24   4/7/1992 11:32         credit_card   \n",
       "3       1962        0.48         18   1/21/2003 2:40               other   \n",
       "4      13528        0.51         23    9/8/1997 7:19  debt_consolidation   \n",
       "\n",
       "                                                desc loan_status  \n",
       "0                                                NaN     Current  \n",
       "1    Borrower added on 11/09/11 > This loan is fo...  Fully Paid  \n",
       "2    Borrower added on 01/28/11 > pay off credit ...  Fully Paid  \n",
       "3    Borrower added on 07/11/11 > I have been con...     Current  \n",
       "4                                                NaN  Fully Paid  "
      ]
     },
     "execution_count": 4,
     "metadata": {},
     "output_type": "execute_result"
    }
   ],
   "source": [
    "model_data.head()"
   ]
  },
  {
   "cell_type": "code",
   "execution_count": 5,
   "id": "bc11dfe9",
   "metadata": {
    "collapsed": true,
    "execution": {
     "iopub.execute_input": "2024-08-01T12:13:06.923918Z",
     "iopub.status.busy": "2024-08-01T12:13:06.923532Z",
     "iopub.status.idle": "2024-08-01T12:13:06.931650Z",
     "shell.execute_reply": "2024-08-01T12:13:06.930620Z"
    },
    "jupyter": {
     "outputs_hidden": true
    },
    "papermill": {
     "duration": 0.020713,
     "end_time": "2024-08-01T12:13:06.933934",
     "exception": false,
     "start_time": "2024-08-01T12:13:06.913221",
     "status": "completed"
    },
    "tags": []
   },
   "outputs": [
    {
     "data": {
      "text/plain": [
       "id                          int64\n",
       "loan_amnt                   int64\n",
       "emp_length                  int64\n",
       "annual_inc                float64\n",
       "delinq_2yrs                 int64\n",
       "inq_last_6mths              int64\n",
       "mths_since_last_delinq      int64\n",
       "mths_since_last_record      int64\n",
       "open_acc                    int64\n",
       "pub_rec                     int64\n",
       "revol_bal                   int64\n",
       "revol_util                float64\n",
       "total_acc                   int64\n",
       "earliest_cr_line           object\n",
       "purpose                    object\n",
       "desc                       object\n",
       "loan_status                object\n",
       "dtype: object"
      ]
     },
     "execution_count": 5,
     "metadata": {},
     "output_type": "execute_result"
    }
   ],
   "source": [
    "model_data.dtypes"
   ]
  },
  {
   "cell_type": "code",
   "execution_count": 6,
   "id": "9147fc3b",
   "metadata": {
    "execution": {
     "iopub.execute_input": "2024-08-01T12:13:06.954967Z",
     "iopub.status.busy": "2024-08-01T12:13:06.954609Z",
     "iopub.status.idle": "2024-08-01T12:13:06.995144Z",
     "shell.execute_reply": "2024-08-01T12:13:06.994036Z"
    },
    "papermill": {
     "duration": 0.054108,
     "end_time": "2024-08-01T12:13:06.997444",
     "exception": false,
     "start_time": "2024-08-01T12:13:06.943336",
     "status": "completed"
    },
    "tags": []
   },
   "outputs": [
    {
     "data": {
      "text/plain": [
       "(12491, 17)"
      ]
     },
     "execution_count": 6,
     "metadata": {},
     "output_type": "execute_result"
    }
   ],
   "source": [
    "model_data = model_data.drop_duplicates()\n",
    "model_data.shape"
   ]
  },
  {
   "cell_type": "code",
   "execution_count": 7,
   "id": "bbc784c7",
   "metadata": {
    "execution": {
     "iopub.execute_input": "2024-08-01T12:13:07.017953Z",
     "iopub.status.busy": "2024-08-01T12:13:07.017568Z",
     "iopub.status.idle": "2024-08-01T12:13:07.026755Z",
     "shell.execute_reply": "2024-08-01T12:13:07.025827Z"
    },
    "papermill": {
     "duration": 0.022194,
     "end_time": "2024-08-01T12:13:07.028952",
     "exception": false,
     "start_time": "2024-08-01T12:13:07.006758",
     "status": "completed"
    },
    "tags": []
   },
   "outputs": [],
   "source": [
    "model_data = model_data.drop(columns=['id'])"
   ]
  },
  {
   "cell_type": "code",
   "execution_count": 8,
   "id": "95effa9e",
   "metadata": {
    "collapsed": true,
    "execution": {
     "iopub.execute_input": "2024-08-01T12:13:07.049696Z",
     "iopub.status.busy": "2024-08-01T12:13:07.048983Z",
     "iopub.status.idle": "2024-08-01T12:13:07.062857Z",
     "shell.execute_reply": "2024-08-01T12:13:07.061696Z"
    },
    "jupyter": {
     "outputs_hidden": true
    },
    "papermill": {
     "duration": 0.026649,
     "end_time": "2024-08-01T12:13:07.065151",
     "exception": false,
     "start_time": "2024-08-01T12:13:07.038502",
     "status": "completed"
    },
    "tags": []
   },
   "outputs": [
    {
     "data": {
      "text/plain": [
       "loan_amnt                    0\n",
       "emp_length                   0\n",
       "annual_inc                   0\n",
       "delinq_2yrs                  0\n",
       "inq_last_6mths               0\n",
       "mths_since_last_delinq       0\n",
       "mths_since_last_record       0\n",
       "open_acc                     0\n",
       "pub_rec                      0\n",
       "revol_bal                    0\n",
       "revol_util                   0\n",
       "total_acc                    0\n",
       "earliest_cr_line             0\n",
       "purpose                      0\n",
       "desc                      4114\n",
       "loan_status                  0\n",
       "dtype: int64"
      ]
     },
     "execution_count": 8,
     "metadata": {},
     "output_type": "execute_result"
    }
   ],
   "source": [
    "model_data.isna().sum()"
   ]
  },
  {
   "cell_type": "code",
   "execution_count": 9,
   "id": "0795830f",
   "metadata": {
    "collapsed": true,
    "execution": {
     "iopub.execute_input": "2024-08-01T12:13:07.086225Z",
     "iopub.status.busy": "2024-08-01T12:13:07.085467Z",
     "iopub.status.idle": "2024-08-01T12:13:07.106688Z",
     "shell.execute_reply": "2024-08-01T12:13:07.105395Z"
    },
    "jupyter": {
     "outputs_hidden": true
    },
    "papermill": {
     "duration": 0.034403,
     "end_time": "2024-08-01T12:13:07.109084",
     "exception": false,
     "start_time": "2024-08-01T12:13:07.074681",
     "status": "completed"
    },
    "tags": []
   },
   "outputs": [
    {
     "data": {
      "text/plain": [
       "loan_amnt                   648\n",
       "emp_length                   10\n",
       "annual_inc                 2227\n",
       "delinq_2yrs                   8\n",
       "inq_last_6mths                9\n",
       "mths_since_last_delinq       88\n",
       "mths_since_last_record       95\n",
       "open_acc                     35\n",
       "pub_rec                       5\n",
       "revol_bal                  9775\n",
       "revol_util                  101\n",
       "total_acc                    73\n",
       "earliest_cr_line          12455\n",
       "purpose                      14\n",
       "desc                       8297\n",
       "loan_status                   7\n",
       "dtype: int64"
      ]
     },
     "execution_count": 9,
     "metadata": {},
     "output_type": "execute_result"
    }
   ],
   "source": [
    "model_data.nunique()"
   ]
  },
  {
   "cell_type": "code",
   "execution_count": 10,
   "id": "61e6b9ab",
   "metadata": {
    "execution": {
     "iopub.execute_input": "2024-08-01T12:13:07.130916Z",
     "iopub.status.busy": "2024-08-01T12:13:07.130119Z",
     "iopub.status.idle": "2024-08-01T12:13:07.138357Z",
     "shell.execute_reply": "2024-08-01T12:13:07.137147Z"
    },
    "papermill": {
     "duration": 0.021432,
     "end_time": "2024-08-01T12:13:07.140452",
     "exception": false,
     "start_time": "2024-08-01T12:13:07.119020",
     "status": "completed"
    },
    "tags": []
   },
   "outputs": [
    {
     "data": {
      "text/plain": [
       "array(['Current', 'Fully Paid', 'Charged Off', 'Late (31-120 days)',\n",
       "       'In Grace Period', 'Late (16-30 days)', 'Default'], dtype=object)"
      ]
     },
     "execution_count": 10,
     "metadata": {},
     "output_type": "execute_result"
    }
   ],
   "source": [
    "model_data['loan_status'].unique()"
   ]
  },
  {
   "cell_type": "code",
   "execution_count": 11,
   "id": "eb29b9fe",
   "metadata": {
    "execution": {
     "iopub.execute_input": "2024-08-01T12:13:07.161505Z",
     "iopub.status.busy": "2024-08-01T12:13:07.161094Z",
     "iopub.status.idle": "2024-08-01T12:13:07.169610Z",
     "shell.execute_reply": "2024-08-01T12:13:07.168364Z"
    },
    "papermill": {
     "duration": 0.021825,
     "end_time": "2024-08-01T12:13:07.171890",
     "exception": false,
     "start_time": "2024-08-01T12:13:07.150065",
     "status": "completed"
    },
    "tags": []
   },
   "outputs": [],
   "source": [
    "category_mapping = {\n",
    "    'Current':1,\n",
    "    'In Grace Period':1,\n",
    "    'Fully Paid':1,\n",
    "    'Charged Off':0,\n",
    "    'Late (31-120 days)':0,\n",
    "    'Late (16-30 days)':1,\n",
    "    'Default':0\n",
    "}\n",
    "model_data['loan_status']=model_data['loan_status'].map(category_mapping)"
   ]
  },
  {
   "cell_type": "code",
   "execution_count": 12,
   "id": "bf5cc24a",
   "metadata": {
    "execution": {
     "iopub.execute_input": "2024-08-01T12:13:07.192953Z",
     "iopub.status.busy": "2024-08-01T12:13:07.192557Z",
     "iopub.status.idle": "2024-08-01T12:13:07.201698Z",
     "shell.execute_reply": "2024-08-01T12:13:07.200532Z"
    },
    "papermill": {
     "duration": 0.022366,
     "end_time": "2024-08-01T12:13:07.203987",
     "exception": false,
     "start_time": "2024-08-01T12:13:07.181621",
     "status": "completed"
    },
    "tags": []
   },
   "outputs": [],
   "source": [
    "purpose_mapping = {\n",
    "        'debt_consolidation': 'Personal_Loan',\n",
    "        'credit_card': 'Personal_Loan',\n",
    "        'other': 'Debt',\n",
    "        'home_improvement': 'Personal_Loan',\n",
    "        'small_business': 'Debt',\n",
    "        'major_purchase': 'Personal_Loan',\n",
    "        'car': 'Personal_Loan',\n",
    "        'wedding': 'Personal_Loan', \n",
    "        'medical': 'Personal_Loan',\n",
    "        'house' : 'Home_Loan',\n",
    "        'moving': 'Personal_Loan',\n",
    "        'vacation': 'Personal_Loan',\n",
    "        'educational': 'Educational_Loan',\n",
    "        'renewable_energy': 'Debt'\n",
    "    }\n",
    "\n",
    "model_data['purpose'] = model_data['purpose'].map(purpose_mapping)"
   ]
  },
  {
   "cell_type": "code",
   "execution_count": 13,
   "id": "2eb0f7bd",
   "metadata": {
    "execution": {
     "iopub.execute_input": "2024-08-01T12:13:07.224968Z",
     "iopub.status.busy": "2024-08-01T12:13:07.224573Z",
     "iopub.status.idle": "2024-08-01T12:13:07.234570Z",
     "shell.execute_reply": "2024-08-01T12:13:07.233259Z"
    },
    "papermill": {
     "duration": 0.023164,
     "end_time": "2024-08-01T12:13:07.236901",
     "exception": false,
     "start_time": "2024-08-01T12:13:07.213737",
     "status": "completed"
    },
    "tags": []
   },
   "outputs": [
    {
     "name": "stdout",
     "output_type": "stream",
     "text": [
      "{'Debt': 0.8191841234840133, 'Educational_Loan': 0.7980769230769231, 'Home_Loan': 0.8660714285714286, 'Personal_Loan': 0.8805085555874199}\n"
     ]
    }
   ],
   "source": [
    "positive_percentage = model_data.groupby('purpose')['loan_status'].mean()\n",
    "purpose_mapping = positive_percentage.to_dict()\n",
    "print(purpose_mapping)"
   ]
  },
  {
   "cell_type": "code",
   "execution_count": 14,
   "id": "e5137d77",
   "metadata": {
    "collapsed": true,
    "execution": {
     "iopub.execute_input": "2024-08-01T12:13:07.258426Z",
     "iopub.status.busy": "2024-08-01T12:13:07.257898Z",
     "iopub.status.idle": "2024-08-01T12:13:07.307025Z",
     "shell.execute_reply": "2024-08-01T12:13:07.305952Z"
    },
    "jupyter": {
     "outputs_hidden": true
    },
    "papermill": {
     "duration": 0.062863,
     "end_time": "2024-08-01T12:13:07.309679",
     "exception": false,
     "start_time": "2024-08-01T12:13:07.246816",
     "status": "completed"
    },
    "tags": []
   },
   "outputs": [
    {
     "data": {
      "text/html": [
       "<div>\n",
       "<style scoped>\n",
       "    .dataframe tbody tr th:only-of-type {\n",
       "        vertical-align: middle;\n",
       "    }\n",
       "\n",
       "    .dataframe tbody tr th {\n",
       "        vertical-align: top;\n",
       "    }\n",
       "\n",
       "    .dataframe thead th {\n",
       "        text-align: right;\n",
       "    }\n",
       "</style>\n",
       "<table border=\"1\" class=\"dataframe\">\n",
       "  <thead>\n",
       "    <tr style=\"text-align: right;\">\n",
       "      <th></th>\n",
       "      <th>loan_amnt</th>\n",
       "      <th>emp_length</th>\n",
       "      <th>annual_inc</th>\n",
       "      <th>delinq_2yrs</th>\n",
       "      <th>inq_last_6mths</th>\n",
       "      <th>mths_since_last_delinq</th>\n",
       "      <th>mths_since_last_record</th>\n",
       "      <th>open_acc</th>\n",
       "      <th>pub_rec</th>\n",
       "      <th>revol_bal</th>\n",
       "      <th>revol_util</th>\n",
       "      <th>total_acc</th>\n",
       "      <th>loan_status</th>\n",
       "    </tr>\n",
       "  </thead>\n",
       "  <tbody>\n",
       "    <tr>\n",
       "      <th>count</th>\n",
       "      <td>12491.000000</td>\n",
       "      <td>12491.000000</td>\n",
       "      <td>1.249100e+04</td>\n",
       "      <td>12491.000000</td>\n",
       "      <td>12491.000000</td>\n",
       "      <td>12491.000000</td>\n",
       "      <td>12491.000000</td>\n",
       "      <td>12491.000000</td>\n",
       "      <td>12491.000000</td>\n",
       "      <td>12491.000000</td>\n",
       "      <td>12491.000000</td>\n",
       "      <td>12491.000000</td>\n",
       "      <td>12491.000000</td>\n",
       "    </tr>\n",
       "    <tr>\n",
       "      <th>mean</th>\n",
       "      <td>11228.384437</td>\n",
       "      <td>5.047234</td>\n",
       "      <td>6.824558e+04</td>\n",
       "      <td>0.145625</td>\n",
       "      <td>0.862621</td>\n",
       "      <td>90.174366</td>\n",
       "      <td>125.910015</td>\n",
       "      <td>9.322392</td>\n",
       "      <td>0.053959</td>\n",
       "      <td>13515.845409</td>\n",
       "      <td>0.490956</td>\n",
       "      <td>22.268914</td>\n",
       "      <td>0.870787</td>\n",
       "    </tr>\n",
       "    <tr>\n",
       "      <th>std</th>\n",
       "      <td>7418.857146</td>\n",
       "      <td>3.363823</td>\n",
       "      <td>5.160006e+04</td>\n",
       "      <td>0.482198</td>\n",
       "      <td>1.057902</td>\n",
       "      <td>42.339998</td>\n",
       "      <td>18.985737</td>\n",
       "      <td>4.431606</td>\n",
       "      <td>0.234978</td>\n",
       "      <td>16118.261730</td>\n",
       "      <td>0.282016</td>\n",
       "      <td>11.521747</td>\n",
       "      <td>0.335449</td>\n",
       "    </tr>\n",
       "    <tr>\n",
       "      <th>min</th>\n",
       "      <td>500.000000</td>\n",
       "      <td>1.000000</td>\n",
       "      <td>6.000000e+03</td>\n",
       "      <td>0.000000</td>\n",
       "      <td>0.000000</td>\n",
       "      <td>0.000000</td>\n",
       "      <td>0.000000</td>\n",
       "      <td>2.000000</td>\n",
       "      <td>0.000000</td>\n",
       "      <td>0.000000</td>\n",
       "      <td>0.000000</td>\n",
       "      <td>2.000000</td>\n",
       "      <td>0.000000</td>\n",
       "    </tr>\n",
       "    <tr>\n",
       "      <th>25%</th>\n",
       "      <td>5500.000000</td>\n",
       "      <td>2.000000</td>\n",
       "      <td>4.032000e+04</td>\n",
       "      <td>0.000000</td>\n",
       "      <td>0.000000</td>\n",
       "      <td>47.000000</td>\n",
       "      <td>130.000000</td>\n",
       "      <td>6.000000</td>\n",
       "      <td>0.000000</td>\n",
       "      <td>3752.000000</td>\n",
       "      <td>0.260000</td>\n",
       "      <td>14.000000</td>\n",
       "      <td>1.000000</td>\n",
       "    </tr>\n",
       "    <tr>\n",
       "      <th>50%</th>\n",
       "      <td>10000.000000</td>\n",
       "      <td>4.000000</td>\n",
       "      <td>5.900000e+04</td>\n",
       "      <td>0.000000</td>\n",
       "      <td>1.000000</td>\n",
       "      <td>120.000000</td>\n",
       "      <td>130.000000</td>\n",
       "      <td>9.000000</td>\n",
       "      <td>0.000000</td>\n",
       "      <td>8943.000000</td>\n",
       "      <td>0.500000</td>\n",
       "      <td>21.000000</td>\n",
       "      <td>1.000000</td>\n",
       "    </tr>\n",
       "    <tr>\n",
       "      <th>75%</th>\n",
       "      <td>15000.000000</td>\n",
       "      <td>9.000000</td>\n",
       "      <td>8.200000e+04</td>\n",
       "      <td>0.000000</td>\n",
       "      <td>1.000000</td>\n",
       "      <td>120.000000</td>\n",
       "      <td>130.000000</td>\n",
       "      <td>12.000000</td>\n",
       "      <td>0.000000</td>\n",
       "      <td>17100.000000</td>\n",
       "      <td>0.720000</td>\n",
       "      <td>29.000000</td>\n",
       "      <td>1.000000</td>\n",
       "    </tr>\n",
       "    <tr>\n",
       "      <th>max</th>\n",
       "      <td>35000.000000</td>\n",
       "      <td>10.000000</td>\n",
       "      <td>2.039784e+06</td>\n",
       "      <td>8.000000</td>\n",
       "      <td>8.000000</td>\n",
       "      <td>120.000000</td>\n",
       "      <td>130.000000</td>\n",
       "      <td>42.000000</td>\n",
       "      <td>4.000000</td>\n",
       "      <td>149527.000000</td>\n",
       "      <td>1.000000</td>\n",
       "      <td>81.000000</td>\n",
       "      <td>1.000000</td>\n",
       "    </tr>\n",
       "  </tbody>\n",
       "</table>\n",
       "</div>"
      ],
      "text/plain": [
       "          loan_amnt    emp_length    annual_inc   delinq_2yrs  inq_last_6mths  \\\n",
       "count  12491.000000  12491.000000  1.249100e+04  12491.000000    12491.000000   \n",
       "mean   11228.384437      5.047234  6.824558e+04      0.145625        0.862621   \n",
       "std     7418.857146      3.363823  5.160006e+04      0.482198        1.057902   \n",
       "min      500.000000      1.000000  6.000000e+03      0.000000        0.000000   \n",
       "25%     5500.000000      2.000000  4.032000e+04      0.000000        0.000000   \n",
       "50%    10000.000000      4.000000  5.900000e+04      0.000000        1.000000   \n",
       "75%    15000.000000      9.000000  8.200000e+04      0.000000        1.000000   \n",
       "max    35000.000000     10.000000  2.039784e+06      8.000000        8.000000   \n",
       "\n",
       "       mths_since_last_delinq  mths_since_last_record      open_acc  \\\n",
       "count            12491.000000            12491.000000  12491.000000   \n",
       "mean                90.174366              125.910015      9.322392   \n",
       "std                 42.339998               18.985737      4.431606   \n",
       "min                  0.000000                0.000000      2.000000   \n",
       "25%                 47.000000              130.000000      6.000000   \n",
       "50%                120.000000              130.000000      9.000000   \n",
       "75%                120.000000              130.000000     12.000000   \n",
       "max                120.000000              130.000000     42.000000   \n",
       "\n",
       "            pub_rec      revol_bal    revol_util     total_acc   loan_status  \n",
       "count  12491.000000   12491.000000  12491.000000  12491.000000  12491.000000  \n",
       "mean       0.053959   13515.845409      0.490956     22.268914      0.870787  \n",
       "std        0.234978   16118.261730      0.282016     11.521747      0.335449  \n",
       "min        0.000000       0.000000      0.000000      2.000000      0.000000  \n",
       "25%        0.000000    3752.000000      0.260000     14.000000      1.000000  \n",
       "50%        0.000000    8943.000000      0.500000     21.000000      1.000000  \n",
       "75%        0.000000   17100.000000      0.720000     29.000000      1.000000  \n",
       "max        4.000000  149527.000000      1.000000     81.000000      1.000000  "
      ]
     },
     "execution_count": 14,
     "metadata": {},
     "output_type": "execute_result"
    }
   ],
   "source": [
    "model_data.describe(exclude=['object'])"
   ]
  },
  {
   "cell_type": "code",
   "execution_count": 15,
   "id": "128d3c5d",
   "metadata": {
    "execution": {
     "iopub.execute_input": "2024-08-01T12:13:07.331791Z",
     "iopub.status.busy": "2024-08-01T12:13:07.331430Z",
     "iopub.status.idle": "2024-08-01T12:13:07.343261Z",
     "shell.execute_reply": "2024-08-01T12:13:07.341988Z"
    },
    "papermill": {
     "duration": 0.025776,
     "end_time": "2024-08-01T12:13:07.345728",
     "exception": false,
     "start_time": "2024-08-01T12:13:07.319952",
     "status": "completed"
    },
    "tags": []
   },
   "outputs": [
    {
     "data": {
      "text/plain": [
       "loan_amnt                    0\n",
       "emp_length                   0\n",
       "annual_inc                   0\n",
       "delinq_2yrs                  0\n",
       "inq_last_6mths               0\n",
       "mths_since_last_delinq       0\n",
       "mths_since_last_record       0\n",
       "open_acc                     0\n",
       "pub_rec                      0\n",
       "revol_bal                    0\n",
       "revol_util                   0\n",
       "total_acc                    0\n",
       "earliest_cr_line             0\n",
       "purpose                      0\n",
       "desc                      4114\n",
       "loan_status                  0\n",
       "dtype: int64"
      ]
     },
     "execution_count": 15,
     "metadata": {},
     "output_type": "execute_result"
    }
   ],
   "source": [
    "model_data.isna().sum()"
   ]
  },
  {
   "cell_type": "code",
   "execution_count": 16,
   "id": "0c781fb5",
   "metadata": {
    "execution": {
     "iopub.execute_input": "2024-08-01T12:13:07.368870Z",
     "iopub.status.busy": "2024-08-01T12:13:07.367982Z",
     "iopub.status.idle": "2024-08-01T12:13:07.374747Z",
     "shell.execute_reply": "2024-08-01T12:13:07.373484Z"
    },
    "papermill": {
     "duration": 0.020698,
     "end_time": "2024-08-01T12:13:07.376855",
     "exception": false,
     "start_time": "2024-08-01T12:13:07.356157",
     "status": "completed"
    },
    "tags": []
   },
   "outputs": [
    {
     "data": {
      "text/plain": [
       "(12491, 16)"
      ]
     },
     "execution_count": 16,
     "metadata": {},
     "output_type": "execute_result"
    }
   ],
   "source": [
    "model_data.shape"
   ]
  },
  {
   "cell_type": "code",
   "execution_count": 17,
   "id": "0682946a",
   "metadata": {
    "execution": {
     "iopub.execute_input": "2024-08-01T12:13:07.399541Z",
     "iopub.status.busy": "2024-08-01T12:13:07.398827Z",
     "iopub.status.idle": "2024-08-01T12:13:07.412952Z",
     "shell.execute_reply": "2024-08-01T12:13:07.411891Z"
    },
    "papermill": {
     "duration": 0.028317,
     "end_time": "2024-08-01T12:13:07.415503",
     "exception": false,
     "start_time": "2024-08-01T12:13:07.387186",
     "status": "completed"
    },
    "tags": []
   },
   "outputs": [],
   "source": [
    "X, y = model_data.drop(columns=['loan_status']), model_data['loan_status']\n",
    "X_train, X_test, y_train, y_test = train_test_split(X, y, test_size=0.2, random_state=42)"
   ]
  },
  {
   "cell_type": "code",
   "execution_count": 18,
   "id": "e869100e",
   "metadata": {
    "collapsed": true,
    "execution": {
     "iopub.execute_input": "2024-08-01T12:13:07.439221Z",
     "iopub.status.busy": "2024-08-01T12:13:07.438247Z",
     "iopub.status.idle": "2024-08-01T12:13:07.445459Z",
     "shell.execute_reply": "2024-08-01T12:13:07.444325Z"
    },
    "jupyter": {
     "outputs_hidden": true
    },
    "papermill": {
     "duration": 0.02155,
     "end_time": "2024-08-01T12:13:07.447634",
     "exception": false,
     "start_time": "2024-08-01T12:13:07.426084",
     "status": "completed"
    },
    "tags": []
   },
   "outputs": [
    {
     "data": {
      "text/plain": [
       "Index(['loan_amnt', 'emp_length', 'annual_inc', 'delinq_2yrs',\n",
       "       'inq_last_6mths', 'mths_since_last_delinq', 'mths_since_last_record',\n",
       "       'open_acc', 'pub_rec', 'revol_bal', 'revol_util', 'total_acc',\n",
       "       'earliest_cr_line', 'purpose', 'desc'],\n",
       "      dtype='object')"
      ]
     },
     "execution_count": 18,
     "metadata": {},
     "output_type": "execute_result"
    }
   ],
   "source": [
    "X.columns"
   ]
  },
  {
   "cell_type": "markdown",
   "id": "e5dc21eb",
   "metadata": {
    "papermill": {
     "duration": 0.010021,
     "end_time": "2024-08-01T12:13:07.468212",
     "exception": false,
     "start_time": "2024-08-01T12:13:07.458191",
     "status": "completed"
    },
    "tags": []
   },
   "source": [
    "<h1>Input preprocessing</h1>\n",
    "Below are a few classes to preprocess the input variables before feeding them into the model for training and inference"
   ]
  },
  {
   "cell_type": "markdown",
   "id": "44d804ab",
   "metadata": {
    "papermill": {
     "duration": 0.01013,
     "end_time": "2024-08-01T12:13:07.489018",
     "exception": false,
     "start_time": "2024-08-01T12:13:07.478888",
     "status": "completed"
    },
    "tags": []
   },
   "source": [
    "<h2>Leverage Ratio</h2>\n",
    "We generate a new variable 'leverage_ratio' by calculating the debt-to-annual income ratio from the given inputs for loan amount and annual income"
   ]
  },
  {
   "cell_type": "code",
   "execution_count": 19,
   "id": "bd953a0d",
   "metadata": {
    "execution": {
     "iopub.execute_input": "2024-08-01T12:13:07.511338Z",
     "iopub.status.busy": "2024-08-01T12:13:07.510940Z",
     "iopub.status.idle": "2024-08-01T12:13:07.518129Z",
     "shell.execute_reply": "2024-08-01T12:13:07.516792Z"
    },
    "papermill": {
     "duration": 0.020978,
     "end_time": "2024-08-01T12:13:07.520428",
     "exception": false,
     "start_time": "2024-08-01T12:13:07.499450",
     "status": "completed"
    },
    "tags": []
   },
   "outputs": [],
   "source": [
    "class LeverageCalculator(BaseEstimator, TransformerMixin):\n",
    "    def __init__(self, loan_amount, annual_income):\n",
    "        self.loan_amount = loan_amount\n",
    "        self.annual_income = annual_income\n",
    "        \n",
    "    def fit(self, X, y=None):\n",
    "        return self\n",
    "    \n",
    "    def transform(self, X):\n",
    "        X = X.copy()\n",
    "        X['leverage_ratio'] = X[self.loan_amount]/X[self.annual_income]\n",
    "        X.insert(1, 'leverage_ratio', X.pop('leverage_ratio'))\n",
    "        return X        "
   ]
  },
  {
   "cell_type": "markdown",
   "id": "5b85c56a",
   "metadata": {
    "papermill": {
     "duration": 0.010075,
     "end_time": "2024-08-01T12:13:07.541016",
     "exception": false,
     "start_time": "2024-08-01T12:13:07.530941",
     "status": "completed"
    },
    "tags": []
   },
   "source": [
    "<h2>Earliest Credit Line</h2>\n",
    "We change the 'earliest_cr_line' variable into an age variable denoting how many years ago the person's first credit line was issued"
   ]
  },
  {
   "cell_type": "code",
   "execution_count": 20,
   "id": "4da837e6",
   "metadata": {
    "execution": {
     "iopub.execute_input": "2024-08-01T12:13:07.564597Z",
     "iopub.status.busy": "2024-08-01T12:13:07.563645Z",
     "iopub.status.idle": "2024-08-01T12:13:07.571882Z",
     "shell.execute_reply": "2024-08-01T12:13:07.570719Z"
    },
    "papermill": {
     "duration": 0.022359,
     "end_time": "2024-08-01T12:13:07.574297",
     "exception": false,
     "start_time": "2024-08-01T12:13:07.551938",
     "status": "completed"
    },
    "tags": []
   },
   "outputs": [],
   "source": [
    "class AgeCalculator(BaseEstimator, TransformerMixin):\n",
    "    def __init__(self, date_column,):\n",
    "        self.date_column = date_column\n",
    "        \n",
    "    def fit(self, X, y=None):\n",
    "        return self\n",
    "    \n",
    "    def transform(self, X):\n",
    "        X = X.copy()\n",
    "        X[self.date_column] = X[self.date_column].apply(self.calculate_age)\n",
    "        return X\n",
    "        \n",
    "    def calculate_age(self, date):\n",
    "        if(pd.isna(date)):\n",
    "            return 0\n",
    "        \n",
    "        date = pd.to_datetime(date, format='%m/%d/%Y %H:%M', exact=False)\n",
    "        today = datetime.today()\n",
    "        age = today.year - date.year - ((today.month, today.day) < (date.month, date.day))\n",
    "        return age"
   ]
  },
  {
   "cell_type": "markdown",
   "id": "f951067c",
   "metadata": {
    "papermill": {
     "duration": 0.010214,
     "end_time": "2024-08-01T12:13:07.595158",
     "exception": false,
     "start_time": "2024-08-01T12:13:07.584944",
     "status": "completed"
    },
    "tags": []
   },
   "source": [
    "<h2>Category Encoding</h2>\n",
    "We map the different values for 'purpose' present in the training data to the percentage of positive samples for that purpose. We also concatenate the 'purpose' and 'desc' columns into a single 'text' column used for further text analysis"
   ]
  },
  {
   "cell_type": "code",
   "execution_count": 21,
   "id": "9791088c",
   "metadata": {
    "execution": {
     "iopub.execute_input": "2024-08-01T12:13:07.619013Z",
     "iopub.status.busy": "2024-08-01T12:13:07.618060Z",
     "iopub.status.idle": "2024-08-01T12:13:07.626419Z",
     "shell.execute_reply": "2024-08-01T12:13:07.625276Z"
    },
    "papermill": {
     "duration": 0.022528,
     "end_time": "2024-08-01T12:13:07.628721",
     "exception": false,
     "start_time": "2024-08-01T12:13:07.606193",
     "status": "completed"
    },
    "tags": []
   },
   "outputs": [],
   "source": [
    "class CategoryEncoder(BaseEstimator, TransformerMixin):\n",
    "    def __init__(self, purpose, description):\n",
    "        self.purpose = purpose\n",
    "        self.description = description\n",
    "        \n",
    "        \n",
    "        self.percentage_mapping = {\n",
    "            'Debt': 81.91841234840133,\n",
    "            'Educational_Loan': 79.8076923076923,\n",
    "            'Home_Loan': 86.60714285714286,\n",
    "            'Personal_Loan': 88.05085555874199\n",
    "        }\n",
    "    \n",
    "    def fit(self, X, y=None):\n",
    "        return self\n",
    "    \n",
    "    def transform(self, X):\n",
    "        X = X.copy()\n",
    "        X[self.purpose] = X[self.purpose].fillna('')\n",
    "        X[self.description] = X[self.description].fillna('')\n",
    "        X['text'] = X[self.purpose]+ X[self.description]\n",
    "        X = X.drop(columns = [self.description])\n",
    "        \n",
    "        X[self.purpose] = X[self.purpose].map(self.percentage_mapping)\n",
    "        return X\n",
    "    "
   ]
  },
  {
   "cell_type": "markdown",
   "id": "5318fd56",
   "metadata": {
    "papermill": {
     "duration": 0.010059,
     "end_time": "2024-08-01T12:13:07.649374",
     "exception": false,
     "start_time": "2024-08-01T12:13:07.639315",
     "status": "completed"
    },
    "tags": []
   },
   "source": [
    "<h2>Text Processing</h2>\n",
    "The two classes below are used to preprocess the 'text' column. The TextPreprocessor converts all text to lowercase, removes stopwords from the text, and lemmatizes all words to their root form. Then we use the TfidfConcatenator to find the TF-IDF vector representations for the 'text' column and concatenate those to the original dataframe while dropping the 'text' column"
   ]
  },
  {
   "cell_type": "code",
   "execution_count": 22,
   "id": "9f8b9be6",
   "metadata": {
    "execution": {
     "iopub.execute_input": "2024-08-01T12:13:07.672249Z",
     "iopub.status.busy": "2024-08-01T12:13:07.671832Z",
     "iopub.status.idle": "2024-08-01T12:13:07.680653Z",
     "shell.execute_reply": "2024-08-01T12:13:07.679411Z"
    },
    "papermill": {
     "duration": 0.023044,
     "end_time": "2024-08-01T12:13:07.682853",
     "exception": false,
     "start_time": "2024-08-01T12:13:07.659809",
     "status": "completed"
    },
    "tags": []
   },
   "outputs": [],
   "source": [
    "class TextPreprocessor(BaseEstimator, TransformerMixin):\n",
    "    def __init__(self, text_column):\n",
    "        self.text_column = text_column\n",
    "        self.stop_words = set(stopwords.words('english'))\n",
    "        self.lemmatizer = WordNetLemmatizer()\n",
    "\n",
    "    def fit(self, X, y=None):\n",
    "        return self\n",
    "\n",
    "    def transform(self, X):\n",
    "        X = X.copy()\n",
    "        X[self.text_column] = X[self.text_column].apply(self._preprocess_text)\n",
    "        return X\n",
    "    \n",
    "    def _preprocess_text(self, text):\n",
    "        stop_words = set(stopwords.words('english'))\n",
    "        \n",
    "        \n",
    "        text = text.lower()\n",
    "        # Tokenize into words\n",
    "        words = word_tokenize(text)\n",
    "        # Remove stopwords\n",
    "        words = [word for word in words if word.isalpha() and word not in self.stop_words]\n",
    "        # Lemmatize words\n",
    "        words = [self.lemmatizer.lemmatize(word) for word in words]\n",
    "        \n",
    "        return ' '.join(words)\n",
    "    "
   ]
  },
  {
   "cell_type": "code",
   "execution_count": 23,
   "id": "e551e6bc",
   "metadata": {
    "execution": {
     "iopub.execute_input": "2024-08-01T12:13:07.705347Z",
     "iopub.status.busy": "2024-08-01T12:13:07.704962Z",
     "iopub.status.idle": "2024-08-01T12:13:07.712401Z",
     "shell.execute_reply": "2024-08-01T12:13:07.711220Z"
    },
    "papermill": {
     "duration": 0.021277,
     "end_time": "2024-08-01T12:13:07.714631",
     "exception": false,
     "start_time": "2024-08-01T12:13:07.693354",
     "status": "completed"
    },
    "tags": []
   },
   "outputs": [],
   "source": [
    "class TfidfConcatenator(BaseEstimator, TransformerMixin):\n",
    "    def __init__(self, text_column):\n",
    "        self.text_column = text_column\n",
    "        self.vectorizer = TfidfVectorizer(max_features=30)\n",
    "\n",
    "    def fit(self, X, y=None):\n",
    "        self.vectorizer.fit(X[self.text_column])\n",
    "        return self\n",
    "\n",
    "    def transform(self, X):\n",
    "        X = X.copy()\n",
    "        tfidf_matrix = self.vectorizer.transform(X[self.text_column])\n",
    "        tfidf_df = pd.DataFrame(tfidf_matrix.toarray(), columns=self.vectorizer.get_feature_names_out())\n",
    "        X = X.drop(columns=[self.text_column])\n",
    "        return pd.concat([X.reset_index(drop=True), tfidf_df.reset_index(drop=True)], axis=1)"
   ]
  },
  {
   "cell_type": "markdown",
   "id": "153e382c",
   "metadata": {
    "papermill": {
     "duration": 0.010506,
     "end_time": "2024-08-01T12:13:07.735918",
     "exception": false,
     "start_time": "2024-08-01T12:13:07.725412",
     "status": "completed"
    },
    "tags": []
   },
   "source": [
    "Finally we chain all the preprocessing classes together into a pipeline. The same pipeline will be used to for inference"
   ]
  },
  {
   "cell_type": "code",
   "execution_count": 24,
   "id": "64d5c269",
   "metadata": {
    "execution": {
     "iopub.execute_input": "2024-08-01T12:13:07.759000Z",
     "iopub.status.busy": "2024-08-01T12:13:07.758048Z",
     "iopub.status.idle": "2024-08-01T12:13:07.768196Z",
     "shell.execute_reply": "2024-08-01T12:13:07.766793Z"
    },
    "papermill": {
     "duration": 0.024184,
     "end_time": "2024-08-01T12:13:07.770752",
     "exception": false,
     "start_time": "2024-08-01T12:13:07.746568",
     "status": "completed"
    },
    "tags": []
   },
   "outputs": [],
   "source": [
    "model_pipeline = Pipeline(steps=[\n",
    "    ('leverage_calculator', LeverageCalculator(loan_amount='loan_amnt', annual_income='annual_inc')),\n",
    "    ('age_calculator', AgeCalculator(date_column='earliest_cr_line')),\n",
    "    ('category_encoder', CategoryEncoder(purpose='purpose', description='desc')),\n",
    "    ('text_preprocessor', TextPreprocessor(text_column='text')),\n",
    "    ('tfidf_concat', TfidfConcatenator(text_column='text')),\n",
    "    ('scaler', StandardScaler(with_mean=False)),  # with_mean=False because TF-IDF output is sparse\n",
    "    ('smote', SMOTE(k_neighbors=5, random_state=42)),\n",
    "    ('model', LogisticRegression(max_iter=1000))\n",
    "])"
   ]
  },
  {
   "cell_type": "code",
   "execution_count": 25,
   "id": "c2a70157",
   "metadata": {
    "execution": {
     "iopub.execute_input": "2024-08-01T12:13:07.793605Z",
     "iopub.status.busy": "2024-08-01T12:13:07.793210Z",
     "iopub.status.idle": "2024-08-01T12:13:20.406259Z",
     "shell.execute_reply": "2024-08-01T12:13:20.405058Z"
    },
    "papermill": {
     "duration": 12.627727,
     "end_time": "2024-08-01T12:13:20.409244",
     "exception": false,
     "start_time": "2024-08-01T12:13:07.781517",
     "status": "completed"
    },
    "tags": []
   },
   "outputs": [
    {
     "data": {
      "text/html": [
       "<style>#sk-container-id-1 {color: black;background-color: white;}#sk-container-id-1 pre{padding: 0;}#sk-container-id-1 div.sk-toggleable {background-color: white;}#sk-container-id-1 label.sk-toggleable__label {cursor: pointer;display: block;width: 100%;margin-bottom: 0;padding: 0.3em;box-sizing: border-box;text-align: center;}#sk-container-id-1 label.sk-toggleable__label-arrow:before {content: \"▸\";float: left;margin-right: 0.25em;color: #696969;}#sk-container-id-1 label.sk-toggleable__label-arrow:hover:before {color: black;}#sk-container-id-1 div.sk-estimator:hover label.sk-toggleable__label-arrow:before {color: black;}#sk-container-id-1 div.sk-toggleable__content {max-height: 0;max-width: 0;overflow: hidden;text-align: left;background-color: #f0f8ff;}#sk-container-id-1 div.sk-toggleable__content pre {margin: 0.2em;color: black;border-radius: 0.25em;background-color: #f0f8ff;}#sk-container-id-1 input.sk-toggleable__control:checked~div.sk-toggleable__content {max-height: 200px;max-width: 100%;overflow: auto;}#sk-container-id-1 input.sk-toggleable__control:checked~label.sk-toggleable__label-arrow:before {content: \"▾\";}#sk-container-id-1 div.sk-estimator input.sk-toggleable__control:checked~label.sk-toggleable__label {background-color: #d4ebff;}#sk-container-id-1 div.sk-label input.sk-toggleable__control:checked~label.sk-toggleable__label {background-color: #d4ebff;}#sk-container-id-1 input.sk-hidden--visually {border: 0;clip: rect(1px 1px 1px 1px);clip: rect(1px, 1px, 1px, 1px);height: 1px;margin: -1px;overflow: hidden;padding: 0;position: absolute;width: 1px;}#sk-container-id-1 div.sk-estimator {font-family: monospace;background-color: #f0f8ff;border: 1px dotted black;border-radius: 0.25em;box-sizing: border-box;margin-bottom: 0.5em;}#sk-container-id-1 div.sk-estimator:hover {background-color: #d4ebff;}#sk-container-id-1 div.sk-parallel-item::after {content: \"\";width: 100%;border-bottom: 1px solid gray;flex-grow: 1;}#sk-container-id-1 div.sk-label:hover label.sk-toggleable__label {background-color: #d4ebff;}#sk-container-id-1 div.sk-serial::before {content: \"\";position: absolute;border-left: 1px solid gray;box-sizing: border-box;top: 0;bottom: 0;left: 50%;z-index: 0;}#sk-container-id-1 div.sk-serial {display: flex;flex-direction: column;align-items: center;background-color: white;padding-right: 0.2em;padding-left: 0.2em;position: relative;}#sk-container-id-1 div.sk-item {position: relative;z-index: 1;}#sk-container-id-1 div.sk-parallel {display: flex;align-items: stretch;justify-content: center;background-color: white;position: relative;}#sk-container-id-1 div.sk-item::before, #sk-container-id-1 div.sk-parallel-item::before {content: \"\";position: absolute;border-left: 1px solid gray;box-sizing: border-box;top: 0;bottom: 0;left: 50%;z-index: -1;}#sk-container-id-1 div.sk-parallel-item {display: flex;flex-direction: column;z-index: 1;position: relative;background-color: white;}#sk-container-id-1 div.sk-parallel-item:first-child::after {align-self: flex-end;width: 50%;}#sk-container-id-1 div.sk-parallel-item:last-child::after {align-self: flex-start;width: 50%;}#sk-container-id-1 div.sk-parallel-item:only-child::after {width: 0;}#sk-container-id-1 div.sk-dashed-wrapped {border: 1px dashed gray;margin: 0 0.4em 0.5em 0.4em;box-sizing: border-box;padding-bottom: 0.4em;background-color: white;}#sk-container-id-1 div.sk-label label {font-family: monospace;font-weight: bold;display: inline-block;line-height: 1.2em;}#sk-container-id-1 div.sk-label-container {text-align: center;}#sk-container-id-1 div.sk-container {/* jupyter's `normalize.less` sets `[hidden] { display: none; }` but bootstrap.min.css set `[hidden] { display: none !important; }` so we also need the `!important` here to be able to override the default hidden behavior on the sphinx rendered scikit-learn.org. See: https://github.com/scikit-learn/scikit-learn/issues/21755 */display: inline-block !important;position: relative;}#sk-container-id-1 div.sk-text-repr-fallback {display: none;}</style><div id=\"sk-container-id-1\" class=\"sk-top-container\"><div class=\"sk-text-repr-fallback\"><pre>Pipeline(steps=[(&#x27;leverage_calculator&#x27;,\n",
       "                 LeverageCalculator(annual_income=&#x27;annual_inc&#x27;,\n",
       "                                    loan_amount=&#x27;loan_amnt&#x27;)),\n",
       "                (&#x27;age_calculator&#x27;,\n",
       "                 AgeCalculator(date_column=&#x27;earliest_cr_line&#x27;)),\n",
       "                (&#x27;category_encoder&#x27;,\n",
       "                 CategoryEncoder(description=&#x27;desc&#x27;, purpose=&#x27;purpose&#x27;)),\n",
       "                (&#x27;text_preprocessor&#x27;, TextPreprocessor(text_column=&#x27;text&#x27;)),\n",
       "                (&#x27;tfidf_concat&#x27;, TfidfConcatenator(text_column=&#x27;text&#x27;)),\n",
       "                (&#x27;scaler&#x27;, StandardScaler(with_mean=False)),\n",
       "                (&#x27;smote&#x27;, SMOTE(random_state=42)),\n",
       "                (&#x27;model&#x27;, LogisticRegression(max_iter=1000))])</pre><b>In a Jupyter environment, please rerun this cell to show the HTML representation or trust the notebook. <br />On GitHub, the HTML representation is unable to render, please try loading this page with nbviewer.org.</b></div><div class=\"sk-container\" hidden><div class=\"sk-item sk-dashed-wrapped\"><div class=\"sk-label-container\"><div class=\"sk-label sk-toggleable\"><input class=\"sk-toggleable__control sk-hidden--visually\" id=\"sk-estimator-id-1\" type=\"checkbox\" ><label for=\"sk-estimator-id-1\" class=\"sk-toggleable__label sk-toggleable__label-arrow\">Pipeline</label><div class=\"sk-toggleable__content\"><pre>Pipeline(steps=[(&#x27;leverage_calculator&#x27;,\n",
       "                 LeverageCalculator(annual_income=&#x27;annual_inc&#x27;,\n",
       "                                    loan_amount=&#x27;loan_amnt&#x27;)),\n",
       "                (&#x27;age_calculator&#x27;,\n",
       "                 AgeCalculator(date_column=&#x27;earliest_cr_line&#x27;)),\n",
       "                (&#x27;category_encoder&#x27;,\n",
       "                 CategoryEncoder(description=&#x27;desc&#x27;, purpose=&#x27;purpose&#x27;)),\n",
       "                (&#x27;text_preprocessor&#x27;, TextPreprocessor(text_column=&#x27;text&#x27;)),\n",
       "                (&#x27;tfidf_concat&#x27;, TfidfConcatenator(text_column=&#x27;text&#x27;)),\n",
       "                (&#x27;scaler&#x27;, StandardScaler(with_mean=False)),\n",
       "                (&#x27;smote&#x27;, SMOTE(random_state=42)),\n",
       "                (&#x27;model&#x27;, LogisticRegression(max_iter=1000))])</pre></div></div></div><div class=\"sk-serial\"><div class=\"sk-item\"><div class=\"sk-estimator sk-toggleable\"><input class=\"sk-toggleable__control sk-hidden--visually\" id=\"sk-estimator-id-2\" type=\"checkbox\" ><label for=\"sk-estimator-id-2\" class=\"sk-toggleable__label sk-toggleable__label-arrow\">LeverageCalculator</label><div class=\"sk-toggleable__content\"><pre>LeverageCalculator(annual_income=&#x27;annual_inc&#x27;, loan_amount=&#x27;loan_amnt&#x27;)</pre></div></div></div><div class=\"sk-item\"><div class=\"sk-estimator sk-toggleable\"><input class=\"sk-toggleable__control sk-hidden--visually\" id=\"sk-estimator-id-3\" type=\"checkbox\" ><label for=\"sk-estimator-id-3\" class=\"sk-toggleable__label sk-toggleable__label-arrow\">AgeCalculator</label><div class=\"sk-toggleable__content\"><pre>AgeCalculator(date_column=&#x27;earliest_cr_line&#x27;)</pre></div></div></div><div class=\"sk-item\"><div class=\"sk-estimator sk-toggleable\"><input class=\"sk-toggleable__control sk-hidden--visually\" id=\"sk-estimator-id-4\" type=\"checkbox\" ><label for=\"sk-estimator-id-4\" class=\"sk-toggleable__label sk-toggleable__label-arrow\">CategoryEncoder</label><div class=\"sk-toggleable__content\"><pre>CategoryEncoder(description=&#x27;desc&#x27;, purpose=&#x27;purpose&#x27;)</pre></div></div></div><div class=\"sk-item\"><div class=\"sk-estimator sk-toggleable\"><input class=\"sk-toggleable__control sk-hidden--visually\" id=\"sk-estimator-id-5\" type=\"checkbox\" ><label for=\"sk-estimator-id-5\" class=\"sk-toggleable__label sk-toggleable__label-arrow\">TextPreprocessor</label><div class=\"sk-toggleable__content\"><pre>TextPreprocessor(text_column=&#x27;text&#x27;)</pre></div></div></div><div class=\"sk-item\"><div class=\"sk-estimator sk-toggleable\"><input class=\"sk-toggleable__control sk-hidden--visually\" id=\"sk-estimator-id-6\" type=\"checkbox\" ><label for=\"sk-estimator-id-6\" class=\"sk-toggleable__label sk-toggleable__label-arrow\">TfidfConcatenator</label><div class=\"sk-toggleable__content\"><pre>TfidfConcatenator(text_column=&#x27;text&#x27;)</pre></div></div></div><div class=\"sk-item\"><div class=\"sk-estimator sk-toggleable\"><input class=\"sk-toggleable__control sk-hidden--visually\" id=\"sk-estimator-id-7\" type=\"checkbox\" ><label for=\"sk-estimator-id-7\" class=\"sk-toggleable__label sk-toggleable__label-arrow\">StandardScaler</label><div class=\"sk-toggleable__content\"><pre>StandardScaler(with_mean=False)</pre></div></div></div><div class=\"sk-item\"><div class=\"sk-estimator sk-toggleable\"><input class=\"sk-toggleable__control sk-hidden--visually\" id=\"sk-estimator-id-8\" type=\"checkbox\" ><label for=\"sk-estimator-id-8\" class=\"sk-toggleable__label sk-toggleable__label-arrow\">SMOTE</label><div class=\"sk-toggleable__content\"><pre>SMOTE(random_state=42)</pre></div></div></div><div class=\"sk-item\"><div class=\"sk-estimator sk-toggleable\"><input class=\"sk-toggleable__control sk-hidden--visually\" id=\"sk-estimator-id-9\" type=\"checkbox\" ><label for=\"sk-estimator-id-9\" class=\"sk-toggleable__label sk-toggleable__label-arrow\">LogisticRegression</label><div class=\"sk-toggleable__content\"><pre>LogisticRegression(max_iter=1000)</pre></div></div></div></div></div></div></div>"
      ],
      "text/plain": [
       "Pipeline(steps=[('leverage_calculator',\n",
       "                 LeverageCalculator(annual_income='annual_inc',\n",
       "                                    loan_amount='loan_amnt')),\n",
       "                ('age_calculator',\n",
       "                 AgeCalculator(date_column='earliest_cr_line')),\n",
       "                ('category_encoder',\n",
       "                 CategoryEncoder(description='desc', purpose='purpose')),\n",
       "                ('text_preprocessor', TextPreprocessor(text_column='text')),\n",
       "                ('tfidf_concat', TfidfConcatenator(text_column='text')),\n",
       "                ('scaler', StandardScaler(with_mean=False)),\n",
       "                ('smote', SMOTE(random_state=42)),\n",
       "                ('model', LogisticRegression(max_iter=1000))])"
      ]
     },
     "execution_count": 25,
     "metadata": {},
     "output_type": "execute_result"
    }
   ],
   "source": [
    "model_pipeline.fit(X_train, y_train)"
   ]
  },
  {
   "cell_type": "code",
   "execution_count": 26,
   "id": "0aff179b",
   "metadata": {
    "execution": {
     "iopub.execute_input": "2024-08-01T12:13:20.447461Z",
     "iopub.status.busy": "2024-08-01T12:13:20.446894Z",
     "iopub.status.idle": "2024-08-01T12:13:22.912983Z",
     "shell.execute_reply": "2024-08-01T12:13:22.911653Z"
    },
    "papermill": {
     "duration": 2.489137,
     "end_time": "2024-08-01T12:13:22.916586",
     "exception": false,
     "start_time": "2024-08-01T12:13:20.427449",
     "status": "completed"
    },
    "tags": []
   },
   "outputs": [],
   "source": [
    "y_pred = model_pipeline.predict(X_test)"
   ]
  },
  {
   "cell_type": "code",
   "execution_count": 27,
   "id": "0834715f",
   "metadata": {
    "execution": {
     "iopub.execute_input": "2024-08-01T12:13:22.954713Z",
     "iopub.status.busy": "2024-08-01T12:13:22.954180Z",
     "iopub.status.idle": "2024-08-01T12:13:22.978902Z",
     "shell.execute_reply": "2024-08-01T12:13:22.977681Z"
    },
    "papermill": {
     "duration": 0.047195,
     "end_time": "2024-08-01T12:13:22.981991",
     "exception": false,
     "start_time": "2024-08-01T12:13:22.934796",
     "status": "completed"
    },
    "tags": []
   },
   "outputs": [
    {
     "name": "stdout",
     "output_type": "stream",
     "text": [
      "              precision    recall  f1-score   support\n",
      "\n",
      "           0       0.19      0.58      0.28       323\n",
      "           1       0.91      0.63      0.75      2176\n",
      "\n",
      "    accuracy                           0.62      2499\n",
      "   macro avg       0.55      0.60      0.51      2499\n",
      "weighted avg       0.82      0.62      0.69      2499\n",
      "\n"
     ]
    }
   ],
   "source": [
    "print(classification_report(y_test, y_pred))"
   ]
  },
  {
   "cell_type": "code",
   "execution_count": 28,
   "id": "137ddd06",
   "metadata": {
    "execution": {
     "iopub.execute_input": "2024-08-01T12:13:23.020599Z",
     "iopub.status.busy": "2024-08-01T12:13:23.020054Z",
     "iopub.status.idle": "2024-08-01T12:13:23.027431Z",
     "shell.execute_reply": "2024-08-01T12:13:23.026323Z"
    },
    "papermill": {
     "duration": 0.031536,
     "end_time": "2024-08-01T12:13:23.031889",
     "exception": false,
     "start_time": "2024-08-01T12:13:23.000353",
     "status": "completed"
    },
    "tags": []
   },
   "outputs": [
    {
     "name": "stdout",
     "output_type": "stream",
     "text": [
      "Default rate in modelling data: 0.13\n"
     ]
    }
   ],
   "source": [
    "default_rate = np.mean(y == 0)\n",
    "print(f'Default rate in modelling data: {default_rate:.2f}')"
   ]
  },
  {
   "cell_type": "code",
   "execution_count": 29,
   "id": "4f7938ba",
   "metadata": {
    "execution": {
     "iopub.execute_input": "2024-08-01T12:13:23.055478Z",
     "iopub.status.busy": "2024-08-01T12:13:23.055030Z",
     "iopub.status.idle": "2024-08-01T12:13:35.062318Z",
     "shell.execute_reply": "2024-08-01T12:13:35.060860Z"
    },
    "papermill": {
     "duration": 12.023015,
     "end_time": "2024-08-01T12:13:35.065869",
     "exception": false,
     "start_time": "2024-08-01T12:13:23.042854",
     "status": "completed"
    },
    "tags": []
   },
   "outputs": [],
   "source": [
    "y_pred_prob = model_pipeline.predict_proba(X)[: ,1]\n",
    "from sklearn.metrics import roc_curve, roc_auc_score\n",
    "fpr, tpr, thresholds = roc_curve(y, y_pred_prob)"
   ]
  },
  {
   "cell_type": "code",
   "execution_count": 30,
   "id": "f63f6622",
   "metadata": {
    "execution": {
     "iopub.execute_input": "2024-08-01T12:13:35.105511Z",
     "iopub.status.busy": "2024-08-01T12:13:35.104934Z",
     "iopub.status.idle": "2024-08-01T12:13:35.200960Z",
     "shell.execute_reply": "2024-08-01T12:13:35.199786Z"
    },
    "papermill": {
     "duration": 0.118986,
     "end_time": "2024-08-01T12:13:35.203518",
     "exception": false,
     "start_time": "2024-08-01T12:13:35.084532",
     "status": "completed"
    },
    "tags": []
   },
   "outputs": [
    {
     "name": "stdout",
     "output_type": "stream",
     "text": [
      "Optimal threshold where decline rate matches default rate: 0.3402045739512086\n"
     ]
    }
   ],
   "source": [
    "# Find the threshold where the decline rate matches the default rate\n",
    "decline_rate_diffs = []\n",
    "for threshold in thresholds:\n",
    "    decline_rate = np.mean(y_pred_prob < threshold)\n",
    "    decline_rate_diffs.append(abs(decline_rate - default_rate))\n",
    "\n",
    "optimal_idx = np.argmin(decline_rate_diffs)\n",
    "optimal_threshold = thresholds[optimal_idx]\n",
    "print(f'Optimal threshold where decline rate matches default rate: {optimal_threshold}')"
   ]
  },
  {
   "cell_type": "code",
   "execution_count": 31,
   "id": "3b8958a3",
   "metadata": {
    "execution": {
     "iopub.execute_input": "2024-08-01T12:13:35.228107Z",
     "iopub.status.busy": "2024-08-01T12:13:35.227194Z",
     "iopub.status.idle": "2024-08-01T12:13:35.233219Z",
     "shell.execute_reply": "2024-08-01T12:13:35.232201Z"
    },
    "papermill": {
     "duration": 0.02064,
     "end_time": "2024-08-01T12:13:35.235495",
     "exception": false,
     "start_time": "2024-08-01T12:13:35.214855",
     "status": "completed"
    },
    "tags": []
   },
   "outputs": [
    {
     "name": "stdout",
     "output_type": "stream",
     "text": [
      "Default rate according to threshold: 0.13\n"
     ]
    }
   ],
   "source": [
    "default_rate_optim = np.mean(y_pred_prob < optimal_threshold)\n",
    "print(f'Default rate according to threshold: {default_rate_optim:.2f}')"
   ]
  },
  {
   "cell_type": "code",
   "execution_count": 32,
   "id": "9d8fc3da",
   "metadata": {
    "execution": {
     "iopub.execute_input": "2024-08-01T12:13:35.259183Z",
     "iopub.status.busy": "2024-08-01T12:13:35.258796Z",
     "iopub.status.idle": "2024-08-01T12:13:35.267390Z",
     "shell.execute_reply": "2024-08-01T12:13:35.266313Z"
    },
    "papermill": {
     "duration": 0.022926,
     "end_time": "2024-08-01T12:13:35.269568",
     "exception": false,
     "start_time": "2024-08-01T12:13:35.246642",
     "status": "completed"
    },
    "tags": []
   },
   "outputs": [],
   "source": [
    "with open(\"loan_model_pipeline.pkl\", \"wb\") as f:\n",
    "    pickle.dump(model_pipeline, f)"
   ]
  }
 ],
 "metadata": {
  "kaggle": {
   "accelerator": "none",
   "dataSources": [
    {
     "datasetId": 5442630,
     "sourceId": 9030142,
     "sourceType": "datasetVersion"
    }
   ],
   "dockerImageVersionId": 30746,
   "isGpuEnabled": false,
   "isInternetEnabled": true,
   "language": "python",
   "sourceType": "notebook"
  },
  "kernelspec": {
   "display_name": "Python 3",
   "language": "python",
   "name": "python3"
  },
  "language_info": {
   "codemirror_mode": {
    "name": "ipython",
    "version": 3
   },
   "file_extension": ".py",
   "mimetype": "text/x-python",
   "name": "python",
   "nbconvert_exporter": "python",
   "pygments_lexer": "ipython3",
   "version": "3.10.13"
  },
  "papermill": {
   "default_parameters": {},
   "duration": 37.678066,
   "end_time": "2024-08-01T12:13:36.202792",
   "environment_variables": {},
   "exception": null,
   "input_path": "__notebook__.ipynb",
   "output_path": "__notebook__.ipynb",
   "parameters": {},
   "start_time": "2024-08-01T12:12:58.524726",
   "version": "2.5.0"
  }
 },
 "nbformat": 4,
 "nbformat_minor": 5
}
